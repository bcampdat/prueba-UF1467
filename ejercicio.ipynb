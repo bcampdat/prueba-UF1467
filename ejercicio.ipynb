{
 "cells": [
  {
   "cell_type": "markdown",
   "metadata": {},
   "source": [
    "# EJERCICIO "
   ]
  },
  {
   "cell_type": "markdown",
   "metadata": {},
   "source": [
    "+ crea u proyecto en github \n",
    "+ Sube el proyecto completo\n",
    "+ manten la estructura\n",
    "+ añade una readme\n",
    "+ usa comits claros\n",
    "\n",
    "Acceder al apartado ***wiki*** del repositorio y crear la siguiente doumentacion\n",
    "##### pag principal de la wiki:   \n",
    "\n",
    " > presentacion del proyecto  \n",
    "\n",
    " > guia de instalacion  \n",
    "\n",
    "> como ejecutar o probar el proyecto en local  \n"
   ]
  }
 ],
 "metadata": {
  "language_info": {
   "name": "python"
  }
 },
 "nbformat": 4,
 "nbformat_minor": 2
}
